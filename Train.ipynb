{
 "cells": [
  {
   "cell_type": "code",
   "execution_count": 1,
   "metadata": {},
   "outputs": [],
   "source": [
    "import numpy as np\n",
    "import matplotlib.pyplot as plt\n",
    "import pandas as pd"
   ]
  },
  {
   "cell_type": "code",
   "execution_count": 2,
   "metadata": {},
   "outputs": [],
   "source": [
    "dataset = pd.read_csv('1tsv.tsv', delimiter = '\\t', quoting = 3)"
   ]
  },
  {
   "cell_type": "code",
   "execution_count": 3,
   "metadata": {},
   "outputs": [
    {
     "data": {
      "text/html": [
       "<div>\n",
       "<style scoped>\n",
       "    .dataframe tbody tr th:only-of-type {\n",
       "        vertical-align: middle;\n",
       "    }\n",
       "\n",
       "    .dataframe tbody tr th {\n",
       "        vertical-align: top;\n",
       "    }\n",
       "\n",
       "    .dataframe thead th {\n",
       "        text-align: right;\n",
       "    }\n",
       "</style>\n",
       "<table border=\"1\" class=\"dataframe\">\n",
       "  <thead>\n",
       "    <tr style=\"text-align: right;\">\n",
       "      <th></th>\n",
       "      <th>Name</th>\n",
       "      <th>CVP</th>\n",
       "      <th>Region</th>\n",
       "      <th>commencement date</th>\n",
       "      <th>Annual turn over</th>\n",
       "      <th>Domain</th>\n",
       "    </tr>\n",
       "  </thead>\n",
       "  <tbody>\n",
       "    <tr>\n",
       "      <th>0</th>\n",
       "      <td>Dell</td>\n",
       "      <td>The company has built up a strong brand over t...</td>\n",
       "      <td>Texas</td>\n",
       "      <td>2015</td>\n",
       "      <td>130000000</td>\n",
       "      <td>Technology</td>\n",
       "    </tr>\n",
       "    <tr>\n",
       "      <th>1</th>\n",
       "      <td>Facebook</td>\n",
       "      <td>Facebook has over a billion monthly users whos...</td>\n",
       "      <td>Massachusetts</td>\n",
       "      <td>2008</td>\n",
       "      <td>130000000</td>\n",
       "      <td>Technology</td>\n",
       "    </tr>\n",
       "    <tr>\n",
       "      <th>2</th>\n",
       "      <td>Johnson &amp; Johnson</td>\n",
       "      <td>Johnson &amp; Johnson comprising the Company’s dev...</td>\n",
       "      <td>New Jersey</td>\n",
       "      <td>2006</td>\n",
       "      <td>145000000</td>\n",
       "      <td>Pharmaceutical</td>\n",
       "    </tr>\n",
       "    <tr>\n",
       "      <th>3</th>\n",
       "      <td>Nestle</td>\n",
       "      <td>Our objective is to be the leader in Nutrition...</td>\n",
       "      <td>Switzerland</td>\n",
       "      <td>2000</td>\n",
       "      <td>125000000</td>\n",
       "      <td>Food</td>\n",
       "    </tr>\n",
       "    <tr>\n",
       "      <th>4</th>\n",
       "      <td>Tata</td>\n",
       "      <td>Tata is the largest automobile industry and pr...</td>\n",
       "      <td>Mumbai</td>\n",
       "      <td>2002</td>\n",
       "      <td>130000000</td>\n",
       "      <td>Automobile</td>\n",
       "    </tr>\n",
       "  </tbody>\n",
       "</table>\n",
       "</div>"
      ],
      "text/plain": [
       "                Name                                                CVP  \\\n",
       "0               Dell  The company has built up a strong brand over t...   \n",
       "1           Facebook  Facebook has over a billion monthly users whos...   \n",
       "2  Johnson & Johnson  Johnson & Johnson comprising the Company’s dev...   \n",
       "3             Nestle  Our objective is to be the leader in Nutrition...   \n",
       "4               Tata  Tata is the largest automobile industry and pr...   \n",
       "\n",
       "          Region  commencement date  Annual turn over          Domain  \n",
       "0          Texas               2015         130000000     Technology   \n",
       "1  Massachusetts               2008         130000000     Technology   \n",
       "2     New Jersey               2006         145000000  Pharmaceutical  \n",
       "3    Switzerland               2000         125000000            Food  \n",
       "4         Mumbai               2002         130000000      Automobile  "
      ]
     },
     "execution_count": 3,
     "metadata": {},
     "output_type": "execute_result"
    }
   ],
   "source": [
    "dataset.head()"
   ]
  },
  {
   "cell_type": "code",
   "execution_count": 4,
   "metadata": {},
   "outputs": [
    {
     "data": {
      "text/plain": [
       "'Facebook has over a billion monthly users whose traffic drives their advertising revenue. These users value Facebook as a convenient platform on which to interact with friends and family. Increasingly, users also use Facebook as a source for news.'"
      ]
     },
     "execution_count": 4,
     "metadata": {},
     "output_type": "execute_result"
    }
   ],
   "source": [
    "dataset['CVP'][1]"
   ]
  },
  {
   "cell_type": "code",
   "execution_count": 5,
   "metadata": {},
   "outputs": [],
   "source": [
    "x=dataset['CVP']\n"
   ]
  },
  {
   "cell_type": "code",
   "execution_count": 6,
   "metadata": {},
   "outputs": [],
   "source": [
    "y=dataset['Domain']"
   ]
  },
  {
   "cell_type": "code",
   "execution_count": 7,
   "metadata": {},
   "outputs": [
    {
     "data": {
      "text/plain": [
       "0      The company has built up a strong brand over t...\n",
       "1      Facebook has over a billion monthly users whos...\n",
       "2      Johnson & Johnson comprising the Company’s dev...\n",
       "3      Our objective is to be the leader in Nutrition...\n",
       "4      Tata is the largest automobile industry and pr...\n",
       "5      IBM has always been characterized by a powerfu...\n",
       "6      The company has a well-established brand. It i...\n",
       "7      Its industry standing, with the Company establ...\n",
       "8      PayPal offers two primary value propositions: ...\n",
       "9      This compatibility is a big draw for Microsoft...\n",
       "10     The company is one of the earliest payment car...\n",
       "11     A company like Amazon has multiple value propo...\n",
       "12     The company increases accessibility by making ...\n",
       "13     Ola's mission is to revolutionize the taxicab ...\n",
       "14     Uber's value derives in large part from the fa...\n",
       "15     A thriving cloud system that provides an enter...\n",
       "16     Using a flexible approach, we partner closely ...\n",
       "17     Deloitte mission statement is “commit people, ...\n",
       "18     Barclays mission statement is “commit people, ...\n",
       "19     The company has a powerful brand. It was one o...\n",
       "20     3M's Serves markets that include medical clini...\n",
       "21     The company’s offerings create convenience thr...\n",
       "22     Volkswagen is to make mobility sustainable for...\n",
       "23     Our Digital Enterprise Management set of IT so...\n",
       "24     The value proposition for Salesforce.com inclu...\n",
       "25     Unilever’s main value proposition is its brand...\n",
       "26     Coca -Cola Company is an organization which pr...\n",
       "27     Its industry standing and reputation, with the...\n",
       "28     Diageo's ambition is to be one of the best per...\n",
       "29     Cisco’s customer relationship is primarily of ...\n",
       "                             ...                        \n",
       "71     The company offers convenience by making its s...\n",
       "72     Alibaba Cloud has always been characterized by...\n",
       "73     The company offers convenience by making its s...\n",
       "74     At Cabify, they make sure their customers - pa...\n",
       "75     Zelle is a boutique litigation and dispute res...\n",
       "76     Xoom is a digital money transfer platform that...\n",
       "77     Venmo is a social payment application that all...\n",
       "78     Rackspace Cloud has always been characterized ...\n",
       "79                        AI-powered checkout for retail\n",
       "80                     Mobile banking for small business\n",
       "81     Effectively capturing and analyzing customer d...\n",
       "82     MobiKwik is a digital wallet that provides DTH...\n",
       "83               Visual intelligence for the real world.\n",
       "84     Cipla encompasses everything from being ever-v...\n",
       "85       Shoptiques.com brings boutique shopping online.\n",
       "86     CarWoo! is an online new-car buying service an...\n",
       "87     WePay is an online payments platform for indiv...\n",
       "88     Paytm is an Indian mobile commerce platform th...\n",
       "89     Amazon Pay is a digital wallet that provides D...\n",
       "90     Clustrix has built a NewSQL database with no l...\n",
       "91                       Mobile wallet for Latin America\n",
       "92                            Most convenient meal ever.\n",
       "93     Payments for marketplaces. Pay sellers, campai...\n",
       "94     Google has always been characterized by a powe...\n",
       "95     Treebo offers a chain of affordable and qualit...\n",
       "96     With Coverfox, compare insurance plans from to...\n",
       "97     PlaceofOrigin is a curated gourmet foot market...\n",
       "98     Hailo's value derives in large part from the f...\n",
       "99     Licensed Aircon Servicing Company in Singapore...\n",
       "100    YES BANK is a full service commercial bank tha...\n",
       "Name: CVP, Length: 101, dtype: object"
      ]
     },
     "execution_count": 7,
     "metadata": {},
     "output_type": "execute_result"
    }
   ],
   "source": [
    "x"
   ]
  },
  {
   "cell_type": "code",
   "execution_count": 8,
   "metadata": {},
   "outputs": [
    {
     "data": {
      "text/plain": [
       "0"
      ]
     },
     "execution_count": 8,
     "metadata": {},
     "output_type": "execute_result"
    }
   ],
   "source": [
    "y.isnull().sum()"
   ]
  },
  {
   "cell_type": "code",
   "execution_count": 9,
   "metadata": {},
   "outputs": [],
   "source": [
    "import re\n",
    "import nltk\n",
    "from nltk.corpus import stopwords\n",
    "from nltk.stem.porter import PorterStemmer\n",
    "ps = PorterStemmer()\n",
    "data=[]"
   ]
  },
  {
   "cell_type": "code",
   "execution_count": 10,
   "metadata": {},
   "outputs": [],
   "source": [
    "for i in range(0,101):\n",
    "        review=x[i]\n",
    "        review = re.sub('[^a-zA-Z]', ' ', review)\n",
    "        review = review.lower()\n",
    "        review = review.split()\n",
    "        review = [ps.stem(word) for word in review if not word in set(stopwords.words('english'))]\n",
    "        review = ' '.join(review)\n",
    "        data.append(review)"
   ]
  },
  {
   "cell_type": "code",
   "execution_count": 11,
   "metadata": {},
   "outputs": [],
   "source": [
    "from sklearn.feature_extraction.text import CountVectorizer\n",
    "cv = CountVectorizer(max_features=500)\n",
    "X = cv.fit_transform(data).toarray()"
   ]
  },
  {
   "cell_type": "code",
   "execution_count": 12,
   "metadata": {},
   "outputs": [
    {
     "data": {
      "text/plain": [
       "(101, 500)"
      ]
     },
     "execution_count": 12,
     "metadata": {},
     "output_type": "execute_result"
    }
   ],
   "source": [
    "X.shape"
   ]
  },
  {
   "cell_type": "code",
   "execution_count": 13,
   "metadata": {},
   "outputs": [],
   "source": [
    "from sklearn.preprocessing import LabelEncoder, OneHotEncoder"
   ]
  },
  {
   "cell_type": "code",
   "execution_count": 14,
   "metadata": {},
   "outputs": [],
   "source": [
    "label=LabelEncoder()"
   ]
  },
  {
   "cell_type": "code",
   "execution_count": 15,
   "metadata": {},
   "outputs": [],
   "source": [
    "y=label.fit_transform(y)"
   ]
  },
  {
   "cell_type": "code",
   "execution_count": 16,
   "metadata": {},
   "outputs": [],
   "source": [
    "enclabels=label.classes_"
   ]
  },
  {
   "cell_type": "code",
   "execution_count": 17,
   "metadata": {},
   "outputs": [
    {
     "data": {
      "text/plain": [
       "array(['Automobile', 'Cloud Sevices', 'Consumer Services', 'FInancial',\n",
       "       'Financial', 'Food', 'Online payments', 'Pharmaceutical',\n",
       "       'Retail Bussiness', 'Ride hailing', 'Technology', 'Technology '],\n",
       "      dtype=object)"
      ]
     },
     "execution_count": 17,
     "metadata": {},
     "output_type": "execute_result"
    }
   ],
   "source": [
    "enclabels"
   ]
  },
  {
   "cell_type": "code",
   "execution_count": 18,
   "metadata": {},
   "outputs": [],
   "source": [
    "y=y.reshape(101,1)"
   ]
  },
  {
   "cell_type": "code",
   "execution_count": 19,
   "metadata": {},
   "outputs": [],
   "source": [
    "ohe=OneHotEncoder(categorical_features = [0])"
   ]
  },
  {
   "cell_type": "code",
   "execution_count": 20,
   "metadata": {},
   "outputs": [
    {
     "name": "stderr",
     "output_type": "stream",
     "text": [
      "C:\\Users\\Siva Kota\\Anaconda3\\lib\\site-packages\\sklearn\\preprocessing\\_encoders.py:415: FutureWarning: The handling of integer data will change in version 0.22. Currently, the categories are determined based on the range [0, max(values)], while in the future they will be determined based on the unique values.\n",
      "If you want the future behaviour and silence this warning, you can specify \"categories='auto'\".\n",
      "In case you used a LabelEncoder before this OneHotEncoder to convert the categories to integers, then you can now use the OneHotEncoder directly.\n",
      "  warnings.warn(msg, FutureWarning)\n",
      "C:\\Users\\Siva Kota\\Anaconda3\\lib\\site-packages\\sklearn\\preprocessing\\_encoders.py:451: DeprecationWarning: The 'categorical_features' keyword is deprecated in version 0.20 and will be removed in 0.22. You can use the ColumnTransformer instead.\n",
      "  \"use the ColumnTransformer instead.\", DeprecationWarning)\n"
     ]
    }
   ],
   "source": [
    "y=ohe.fit_transform(y).toarray()"
   ]
  },
  {
   "cell_type": "code",
   "execution_count": 21,
   "metadata": {},
   "outputs": [
    {
     "data": {
      "text/plain": [
       "array([[0., 0., 0., ..., 0., 0., 1.],\n",
       "       [0., 0., 0., ..., 0., 0., 1.],\n",
       "       [0., 0., 0., ..., 0., 0., 0.],\n",
       "       ...,\n",
       "       [0., 0., 0., ..., 1., 0., 0.],\n",
       "       [0., 0., 1., ..., 0., 0., 0.],\n",
       "       [0., 0., 0., ..., 0., 0., 0.]])"
      ]
     },
     "execution_count": 21,
     "metadata": {},
     "output_type": "execute_result"
    }
   ],
   "source": [
    "y"
   ]
  },
  {
   "cell_type": "code",
   "execution_count": 22,
   "metadata": {},
   "outputs": [
    {
     "data": {
      "text/plain": [
       "(101, 12)"
      ]
     },
     "execution_count": 22,
     "metadata": {},
     "output_type": "execute_result"
    }
   ],
   "source": [
    "y.shape"
   ]
  },
  {
   "cell_type": "code",
   "execution_count": 23,
   "metadata": {},
   "outputs": [
    {
     "data": {
      "text/plain": [
       "(101, 500)"
      ]
     },
     "execution_count": 23,
     "metadata": {},
     "output_type": "execute_result"
    }
   ],
   "source": [
    "X.shape"
   ]
  },
  {
   "cell_type": "code",
   "execution_count": 24,
   "metadata": {},
   "outputs": [],
   "source": [
    "from sklearn.model_selection import train_test_split\n",
    "x_train,x_test,y_train,y_test=train_test_split(X,y,test_size=0.2,random_state=0)"
   ]
  },
  {
   "cell_type": "code",
   "execution_count": 25,
   "metadata": {},
   "outputs": [
    {
     "name": "stderr",
     "output_type": "stream",
     "text": [
      "Using TensorFlow backend.\n"
     ]
    }
   ],
   "source": [
    "from keras.models import Sequential\n",
    "from keras.layers import Dense"
   ]
  },
  {
   "cell_type": "code",
   "execution_count": 26,
   "metadata": {},
   "outputs": [],
   "source": [
    "model = Sequential()"
   ]
  },
  {
   "cell_type": "code",
   "execution_count": 27,
   "metadata": {},
   "outputs": [
    {
     "name": "stderr",
     "output_type": "stream",
     "text": [
      "C:\\Users\\Siva Kota\\Anaconda3\\lib\\site-packages\\ipykernel_launcher.py:1: UserWarning: Update your `Dense` call to the Keras 2 API: `Dense(activation=\"relu\", input_dim=500, units=6, kernel_initializer=\"uniform\")`\n",
      "  \"\"\"Entry point for launching an IPython kernel.\n"
     ]
    }
   ],
   "source": [
    "model.add(Dense(output_dim = 6, init = 'uniform', activation = 'relu', input_dim = 500))"
   ]
  },
  {
   "cell_type": "code",
   "execution_count": 28,
   "metadata": {},
   "outputs": [
    {
     "name": "stderr",
     "output_type": "stream",
     "text": [
      "C:\\Users\\Siva Kota\\Anaconda3\\lib\\site-packages\\ipykernel_launcher.py:1: UserWarning: Update your `Dense` call to the Keras 2 API: `Dense(activation=\"relu\", units=6, kernel_initializer=\"uniform\")`\n",
      "  \"\"\"Entry point for launching an IPython kernel.\n"
     ]
    }
   ],
   "source": [
    "model.add(Dense(output_dim = 6, init = 'uniform', activation = 'relu'))"
   ]
  },
  {
   "cell_type": "code",
   "execution_count": 29,
   "metadata": {},
   "outputs": [
    {
     "name": "stderr",
     "output_type": "stream",
     "text": [
      "C:\\Users\\Siva Kota\\Anaconda3\\lib\\site-packages\\ipykernel_launcher.py:1: UserWarning: Update your `Dense` call to the Keras 2 API: `Dense(activation=\"sigmoid\", units=12, kernel_initializer=\"uniform\")`\n",
      "  \"\"\"Entry point for launching an IPython kernel.\n"
     ]
    }
   ],
   "source": [
    "model.add(Dense(output_dim = 12, init = 'uniform', activation = 'sigmoid'))"
   ]
  },
  {
   "cell_type": "code",
   "execution_count": 30,
   "metadata": {},
   "outputs": [],
   "source": [
    "model.compile(optimizer = 'adam', loss = 'categorical_crossentropy', metrics = ['accuracy'])"
   ]
  },
  {
   "cell_type": "code",
   "execution_count": 31,
   "metadata": {},
   "outputs": [
    {
     "name": "stdout",
     "output_type": "stream",
     "text": [
      "WARNING:tensorflow:From C:\\Users\\Siva Kota\\AppData\\Roaming\\Python\\Python37\\site-packages\\tensorflow\\python\\ops\\math_grad.py:1250: add_dispatch_support.<locals>.wrapper (from tensorflow.python.ops.array_ops) is deprecated and will be removed in a future version.\n",
      "Instructions for updating:\n",
      "Use tf.where in 2.0, which has the same broadcast rule as np.where\n"
     ]
    },
    {
     "name": "stderr",
     "output_type": "stream",
     "text": [
      "C:\\Users\\Siva Kota\\Anaconda3\\lib\\site-packages\\ipykernel_launcher.py:1: UserWarning: The `nb_epoch` argument in `fit` has been renamed `epochs`.\n",
      "  \"\"\"Entry point for launching an IPython kernel.\n"
     ]
    },
    {
     "name": "stdout",
     "output_type": "stream",
     "text": [
      "WARNING:tensorflow:From C:\\Users\\Siva Kota\\Anaconda3\\lib\\site-packages\\keras\\backend\\tensorflow_backend.py:422: The name tf.global_variables is deprecated. Please use tf.compat.v1.global_variables instead.\n",
      "\n",
      "Epoch 1/180\n",
      "80/80 [==============================] - 0s 3ms/step - loss: 2.4849 - accuracy: 0.0250\n",
      "Epoch 2/180\n",
      "80/80 [==============================] - 0s 137us/step - loss: 2.4844 - accuracy: 0.1125\n",
      "Epoch 3/180\n",
      "80/80 [==============================] - 0s 125us/step - loss: 2.4841 - accuracy: 0.1250\n",
      "Epoch 4/180\n",
      "80/80 [==============================] - 0s 137us/step - loss: 2.4837 - accuracy: 0.1500\n",
      "Epoch 5/180\n",
      "80/80 [==============================] - 0s 150us/step - loss: 2.4833 - accuracy: 0.1625\n",
      "Epoch 6/180\n",
      "80/80 [==============================] - 0s 87us/step - loss: 2.4828 - accuracy: 0.1375\n",
      "Epoch 7/180\n",
      "80/80 [==============================] - 0s 112us/step - loss: 2.4823 - accuracy: 0.1875\n",
      "Epoch 8/180\n",
      "80/80 [==============================] - 0s 112us/step - loss: 2.4816 - accuracy: 0.2125\n",
      "Epoch 9/180\n",
      "80/80 [==============================] - 0s 87us/step - loss: 2.4808 - accuracy: 0.2125\n",
      "Epoch 10/180\n",
      "80/80 [==============================] - 0s 87us/step - loss: 2.4800 - accuracy: 0.2000\n",
      "Epoch 11/180\n",
      "80/80 [==============================] - 0s 150us/step - loss: 2.4789 - accuracy: 0.2000\n",
      "Epoch 12/180\n",
      "80/80 [==============================] - 0s 137us/step - loss: 2.4777 - accuracy: 0.2375\n",
      "Epoch 13/180\n",
      "80/80 [==============================] - 0s 137us/step - loss: 2.4761 - accuracy: 0.1750\n",
      "Epoch 14/180\n",
      "80/80 [==============================] - 0s 112us/step - loss: 2.4746 - accuracy: 0.1250\n",
      "Epoch 15/180\n",
      "80/80 [==============================] - 0s 100us/step - loss: 2.4726 - accuracy: 0.1000\n",
      "Epoch 16/180\n",
      "80/80 [==============================] - 0s 125us/step - loss: 2.4703 - accuracy: 0.1125\n",
      "Epoch 17/180\n",
      "80/80 [==============================] - 0s 87us/step - loss: 2.4677 - accuracy: 0.1125\n",
      "Epoch 18/180\n",
      "80/80 [==============================] - 0s 125us/step - loss: 2.4645 - accuracy: 0.1250\n",
      "Epoch 19/180\n",
      "80/80 [==============================] - 0s 237us/step - loss: 2.4611 - accuracy: 0.1250\n",
      "Epoch 20/180\n",
      "80/80 [==============================] - 0s 137us/step - loss: 2.4573 - accuracy: 0.1125\n",
      "Epoch 21/180\n",
      "80/80 [==============================] - 0s 112us/step - loss: 2.4527 - accuracy: 0.1125\n",
      "Epoch 22/180\n",
      "80/80 [==============================] - 0s 212us/step - loss: 2.4473 - accuracy: 0.1000\n",
      "Epoch 23/180\n",
      "80/80 [==============================] - 0s 125us/step - loss: 2.4413 - accuracy: 0.1000\n",
      "Epoch 24/180\n",
      "80/80 [==============================] - 0s 150us/step - loss: 2.4344 - accuracy: 0.1250\n",
      "Epoch 25/180\n",
      "80/80 [==============================] - 0s 150us/step - loss: 2.4263 - accuracy: 0.1125\n",
      "Epoch 26/180\n",
      "80/80 [==============================] - 0s 162us/step - loss: 2.4173 - accuracy: 0.1000\n",
      "Epoch 27/180\n",
      "80/80 [==============================] - 0s 150us/step - loss: 2.4076 - accuracy: 0.1000\n",
      "Epoch 28/180\n",
      "80/80 [==============================] - 0s 162us/step - loss: 2.3967 - accuracy: 0.1000\n",
      "Epoch 29/180\n",
      "80/80 [==============================] - 0s 175us/step - loss: 2.3834 - accuracy: 0.1000\n",
      "Epoch 30/180\n",
      "80/80 [==============================] - 0s 162us/step - loss: 2.3717 - accuracy: 0.1000\n",
      "Epoch 31/180\n",
      "80/80 [==============================] - 0s 162us/step - loss: 2.3568 - accuracy: 0.1000\n",
      "Epoch 32/180\n",
      "80/80 [==============================] - 0s 112us/step - loss: 2.3417 - accuracy: 0.1000\n",
      "Epoch 33/180\n",
      "80/80 [==============================] - 0s 187us/step - loss: 2.3257 - accuracy: 0.1000\n",
      "Epoch 34/180\n",
      "80/80 [==============================] - 0s 100us/step - loss: 2.3099 - accuracy: 0.1000\n",
      "Epoch 35/180\n",
      "80/80 [==============================] - 0s 125us/step - loss: 2.2950 - accuracy: 0.1000\n",
      "Epoch 36/180\n",
      "80/80 [==============================] - 0s 87us/step - loss: 2.2797 - accuracy: 0.1000\n",
      "Epoch 37/180\n",
      "80/80 [==============================] - 0s 124us/step - loss: 2.2648 - accuracy: 0.1000\n",
      "Epoch 38/180\n",
      "80/80 [==============================] - 0s 125us/step - loss: 2.2499 - accuracy: 0.1000\n",
      "Epoch 39/180\n",
      "80/80 [==============================] - 0s 137us/step - loss: 2.2366 - accuracy: 0.1000\n",
      "Epoch 40/180\n",
      "80/80 [==============================] - 0s 87us/step - loss: 2.2252 - accuracy: 0.1000\n",
      "Epoch 41/180\n",
      "80/80 [==============================] - 0s 125us/step - loss: 2.2123 - accuracy: 0.1625\n",
      "Epoch 42/180\n",
      "80/80 [==============================] - 0s 100us/step - loss: 2.2018 - accuracy: 0.2000\n",
      "Epoch 43/180\n",
      "80/80 [==============================] - 0s 150us/step - loss: 2.1917 - accuracy: 0.2000\n",
      "Epoch 44/180\n",
      "80/80 [==============================] - 0s 137us/step - loss: 2.1824 - accuracy: 0.2000\n",
      "Epoch 45/180\n",
      "80/80 [==============================] - 0s 87us/step - loss: 2.1732 - accuracy: 0.1875\n",
      "Epoch 46/180\n",
      "80/80 [==============================] - 0s 150us/step - loss: 2.1650 - accuracy: 0.1000\n",
      "Epoch 47/180\n",
      "80/80 [==============================] - 0s 137us/step - loss: 2.1576 - accuracy: 0.1000\n",
      "Epoch 48/180\n",
      "80/80 [==============================] - 0s 175us/step - loss: 2.1497 - accuracy: 0.1000\n",
      "Epoch 49/180\n",
      "80/80 [==============================] - 0s 137us/step - loss: 2.1426 - accuracy: 0.1000\n",
      "Epoch 50/180\n",
      "80/80 [==============================] - 0s 150us/step - loss: 2.1360 - accuracy: 0.1000\n",
      "Epoch 51/180\n",
      "80/80 [==============================] - 0s 137us/step - loss: 2.1295 - accuracy: 0.1125\n",
      "Epoch 52/180\n",
      "80/80 [==============================] - 0s 137us/step - loss: 2.1230 - accuracy: 0.1250\n",
      "Epoch 53/180\n",
      "80/80 [==============================] - 0s 112us/step - loss: 2.1168 - accuracy: 0.1250\n",
      "Epoch 54/180\n",
      "80/80 [==============================] - 0s 100us/step - loss: 2.1098 - accuracy: 0.1375\n",
      "Epoch 55/180\n",
      "80/80 [==============================] - 0s 87us/step - loss: 2.1041 - accuracy: 0.1500\n",
      "Epoch 56/180\n",
      "80/80 [==============================] - 0s 100us/step - loss: 2.0971 - accuracy: 0.1750\n",
      "Epoch 57/180\n",
      "80/80 [==============================] - 0s 100us/step - loss: 2.0905 - accuracy: 0.1125\n",
      "Epoch 58/180\n",
      "80/80 [==============================] - 0s 112us/step - loss: 2.0840 - accuracy: 0.1625\n",
      "Epoch 59/180\n",
      "80/80 [==============================] - 0s 100us/step - loss: 2.0773 - accuracy: 0.2125\n",
      "Epoch 60/180\n",
      "80/80 [==============================] - 0s 100us/step - loss: 2.0707 - accuracy: 0.2125\n",
      "Epoch 61/180\n",
      "80/80 [==============================] - 0s 137us/step - loss: 2.0632 - accuracy: 0.2125\n",
      "Epoch 62/180\n",
      "80/80 [==============================] - 0s 87us/step - loss: 2.0561 - accuracy: 0.2125\n",
      "Epoch 63/180\n",
      "80/80 [==============================] - 0s 87us/step - loss: 2.0486 - accuracy: 0.2125\n",
      "Epoch 64/180\n",
      "80/80 [==============================] - 0s 87us/step - loss: 2.0418 - accuracy: 0.2125\n",
      "Epoch 65/180\n",
      "80/80 [==============================] - 0s 100us/step - loss: 2.0341 - accuracy: 0.2125\n",
      "Epoch 66/180\n",
      "80/80 [==============================] - 0s 87us/step - loss: 2.0264 - accuracy: 0.2125\n",
      "Epoch 67/180\n",
      "80/80 [==============================] - 0s 150us/step - loss: 2.0188 - accuracy: 0.2125\n",
      "Epoch 68/180\n",
      "80/80 [==============================] - 0s 125us/step - loss: 2.0105 - accuracy: 0.2125\n",
      "Epoch 69/180\n",
      "80/80 [==============================] - 0s 100us/step - loss: 2.0026 - accuracy: 0.2125\n",
      "Epoch 70/180\n",
      "80/80 [==============================] - 0s 150us/step - loss: 1.9939 - accuracy: 0.2125\n",
      "Epoch 71/180\n",
      "80/80 [==============================] - 0s 100us/step - loss: 1.9854 - accuracy: 0.2125\n",
      "Epoch 72/180\n",
      "80/80 [==============================] - 0s 87us/step - loss: 1.9771 - accuracy: 0.2125\n",
      "Epoch 73/180\n",
      "80/80 [==============================] - 0s 337us/step - loss: 1.9674 - accuracy: 0.2125\n",
      "Epoch 74/180\n",
      "80/80 [==============================] - 0s 112us/step - loss: 1.9586 - accuracy: 0.2125\n",
      "Epoch 75/180\n",
      "80/80 [==============================] - 0s 100us/step - loss: 1.9486 - accuracy: 0.2125\n",
      "Epoch 76/180\n",
      "80/80 [==============================] - 0s 87us/step - loss: 1.9390 - accuracy: 0.2125\n",
      "Epoch 77/180\n",
      "80/80 [==============================] - 0s 87us/step - loss: 1.9295 - accuracy: 0.2125\n",
      "Epoch 78/180\n",
      "80/80 [==============================] - 0s 87us/step - loss: 1.9193 - accuracy: 0.2125\n",
      "Epoch 79/180\n"
     ]
    },
    {
     "name": "stdout",
     "output_type": "stream",
     "text": [
      "80/80 [==============================] - 0s 150us/step - loss: 1.9089 - accuracy: 0.2125\n",
      "Epoch 80/180\n",
      "80/80 [==============================] - 0s 100us/step - loss: 1.8993 - accuracy: 0.2125\n",
      "Epoch 81/180\n",
      "80/80 [==============================] - 0s 100us/step - loss: 1.8891 - accuracy: 0.2125\n",
      "Epoch 82/180\n",
      "80/80 [==============================] - 0s 125us/step - loss: 1.8789 - accuracy: 0.2125\n",
      "Epoch 83/180\n",
      "80/80 [==============================] - 0s 175us/step - loss: 1.8686 - accuracy: 0.2250\n",
      "Epoch 84/180\n",
      "80/80 [==============================] - 0s 125us/step - loss: 1.8579 - accuracy: 0.2250\n",
      "Epoch 85/180\n",
      "80/80 [==============================] - 0s 125us/step - loss: 1.8475 - accuracy: 0.2250\n",
      "Epoch 86/180\n",
      "80/80 [==============================] - 0s 137us/step - loss: 1.8366 - accuracy: 0.2250\n",
      "Epoch 87/180\n",
      "80/80 [==============================] - 0s 125us/step - loss: 1.8260 - accuracy: 0.2250\n",
      "Epoch 88/180\n",
      "80/80 [==============================] - 0s 150us/step - loss: 1.8157 - accuracy: 0.2250\n",
      "Epoch 89/180\n",
      "80/80 [==============================] - 0s 125us/step - loss: 1.8049 - accuracy: 0.2250\n",
      "Epoch 90/180\n",
      "80/80 [==============================] - 0s 100us/step - loss: 1.7937 - accuracy: 0.2250\n",
      "Epoch 91/180\n",
      "80/80 [==============================] - 0s 125us/step - loss: 1.7823 - accuracy: 0.2375\n",
      "Epoch 92/180\n",
      "80/80 [==============================] - 0s 100us/step - loss: 1.7716 - accuracy: 0.2500\n",
      "Epoch 93/180\n",
      "80/80 [==============================] - 0s 112us/step - loss: 1.7603 - accuracy: 0.2500\n",
      "Epoch 94/180\n",
      "80/80 [==============================] - 0s 125us/step - loss: 1.7497 - accuracy: 0.2750\n",
      "Epoch 95/180\n",
      "80/80 [==============================] - 0s 125us/step - loss: 1.7387 - accuracy: 0.2750\n",
      "Epoch 96/180\n",
      "80/80 [==============================] - 0s 150us/step - loss: 1.7274 - accuracy: 0.2750\n",
      "Epoch 97/180\n",
      "80/80 [==============================] - 0s 137us/step - loss: 1.7166 - accuracy: 0.2875\n",
      "Epoch 98/180\n",
      "80/80 [==============================] - 0s 100us/step - loss: 1.7054 - accuracy: 0.2875\n",
      "Epoch 99/180\n",
      "80/80 [==============================] - ETA: 0s - loss: 1.6557 - accuracy: 0.31 - 0s 125us/step - loss: 1.6951 - accuracy: 0.2875\n",
      "Epoch 100/180\n",
      "80/80 [==============================] - 0s 100us/step - loss: 1.6848 - accuracy: 0.2875\n",
      "Epoch 101/180\n",
      "80/80 [==============================] - 0s 125us/step - loss: 1.6743 - accuracy: 0.2875\n",
      "Epoch 102/180\n",
      "80/80 [==============================] - 0s 112us/step - loss: 1.6637 - accuracy: 0.3000\n",
      "Epoch 103/180\n",
      "80/80 [==============================] - 0s 125us/step - loss: 1.6539 - accuracy: 0.3000\n",
      "Epoch 104/180\n",
      "80/80 [==============================] - 0s 125us/step - loss: 1.6428 - accuracy: 0.3000\n",
      "Epoch 105/180\n",
      "80/80 [==============================] - 0s 112us/step - loss: 1.6338 - accuracy: 0.3000\n",
      "Epoch 106/180\n",
      "80/80 [==============================] - 0s 87us/step - loss: 1.6242 - accuracy: 0.3125\n",
      "Epoch 107/180\n",
      "80/80 [==============================] - 0s 112us/step - loss: 1.6154 - accuracy: 0.3125\n",
      "Epoch 108/180\n",
      "80/80 [==============================] - 0s 100us/step - loss: 1.6061 - accuracy: 0.3125\n",
      "Epoch 109/180\n",
      "80/80 [==============================] - 0s 112us/step - loss: 1.5970 - accuracy: 0.3125\n",
      "Epoch 110/180\n",
      "80/80 [==============================] - 0s 112us/step - loss: 1.5880 - accuracy: 0.3125\n",
      "Epoch 111/180\n",
      "80/80 [==============================] - 0s 150us/step - loss: 1.5790 - accuracy: 0.3125\n",
      "Epoch 112/180\n",
      "80/80 [==============================] - 0s 112us/step - loss: 1.5708 - accuracy: 0.3125\n",
      "Epoch 113/180\n",
      "80/80 [==============================] - 0s 100us/step - loss: 1.5626 - accuracy: 0.3125\n",
      "Epoch 114/180\n",
      "80/80 [==============================] - 0s 112us/step - loss: 1.5546 - accuracy: 0.3125\n",
      "Epoch 115/180\n",
      "80/80 [==============================] - 0s 125us/step - loss: 1.5461 - accuracy: 0.3125\n",
      "Epoch 116/180\n",
      "80/80 [==============================] - 0s 100us/step - loss: 1.5384 - accuracy: 0.3125\n",
      "Epoch 117/180\n",
      "80/80 [==============================] - 0s 100us/step - loss: 1.5307 - accuracy: 0.3125\n",
      "Epoch 118/180\n",
      "80/80 [==============================] - 0s 162us/step - loss: 1.5231 - accuracy: 0.3125\n",
      "Epoch 119/180\n",
      "80/80 [==============================] - 0s 137us/step - loss: 1.5157 - accuracy: 0.3125\n",
      "Epoch 120/180\n",
      "80/80 [==============================] - 0s 125us/step - loss: 1.5082 - accuracy: 0.3125\n",
      "Epoch 121/180\n",
      "80/80 [==============================] - 0s 175us/step - loss: 1.5008 - accuracy: 0.3125\n",
      "Epoch 122/180\n",
      "80/80 [==============================] - 0s 137us/step - loss: 1.4936 - accuracy: 0.3125\n",
      "Epoch 123/180\n",
      "80/80 [==============================] - 0s 162us/step - loss: 1.4864 - accuracy: 0.3125\n",
      "Epoch 124/180\n",
      "80/80 [==============================] - 0s 175us/step - loss: 1.4802 - accuracy: 0.3125\n",
      "Epoch 125/180\n",
      "80/80 [==============================] - 0s 175us/step - loss: 1.4728 - accuracy: 0.3125\n",
      "Epoch 126/180\n",
      "80/80 [==============================] - 0s 187us/step - loss: 1.4660 - accuracy: 0.3125\n",
      "Epoch 127/180\n",
      "80/80 [==============================] - 0s 100us/step - loss: 1.4590 - accuracy: 0.3125\n",
      "Epoch 128/180\n",
      "80/80 [==============================] - 0s 112us/step - loss: 1.4523 - accuracy: 0.3125\n",
      "Epoch 129/180\n",
      "80/80 [==============================] - 0s 199us/step - loss: 1.4459 - accuracy: 0.3125\n",
      "Epoch 130/180\n",
      "80/80 [==============================] - 0s 137us/step - loss: 1.4396 - accuracy: 0.3125\n",
      "Epoch 131/180\n",
      "80/80 [==============================] - 0s 125us/step - loss: 1.4334 - accuracy: 0.3125\n",
      "Epoch 132/180\n",
      "80/80 [==============================] - 0s 137us/step - loss: 1.4268 - accuracy: 0.3125\n",
      "Epoch 133/180\n",
      "80/80 [==============================] - 0s 137us/step - loss: 1.4204 - accuracy: 0.3125\n",
      "Epoch 134/180\n",
      "80/80 [==============================] - 0s 150us/step - loss: 1.4140 - accuracy: 0.3125\n",
      "Epoch 135/180\n",
      "80/80 [==============================] - 0s 87us/step - loss: 1.4081 - accuracy: 0.3125\n",
      "Epoch 136/180\n",
      "80/80 [==============================] - 0s 199us/step - loss: 1.4018 - accuracy: 0.3125\n",
      "Epoch 137/180\n",
      "80/80 [==============================] - 0s 262us/step - loss: 1.3956 - accuracy: 0.3125\n",
      "Epoch 138/180\n",
      "80/80 [==============================] - 0s 100us/step - loss: 1.3896 - accuracy: 0.3125\n",
      "Epoch 139/180\n",
      "80/80 [==============================] - 0s 112us/step - loss: 1.3837 - accuracy: 0.3125\n",
      "Epoch 140/180\n",
      "80/80 [==============================] - 0s 150us/step - loss: 1.3780 - accuracy: 0.3125\n",
      "Epoch 141/180\n",
      "80/80 [==============================] - 0s 125us/step - loss: 1.3720 - accuracy: 0.3125\n",
      "Epoch 142/180\n",
      "80/80 [==============================] - 0s 137us/step - loss: 1.3663 - accuracy: 0.3125\n",
      "Epoch 143/180\n",
      "80/80 [==============================] - 0s 125us/step - loss: 1.3604 - accuracy: 0.3125\n",
      "Epoch 144/180\n",
      "80/80 [==============================] - 0s 112us/step - loss: 1.3549 - accuracy: 0.3125\n",
      "Epoch 145/180\n",
      "80/80 [==============================] - 0s 87us/step - loss: 1.3495 - accuracy: 0.3125\n",
      "Epoch 146/180\n",
      "80/80 [==============================] - 0s 125us/step - loss: 1.3438 - accuracy: 0.3125\n",
      "Epoch 147/180\n",
      "80/80 [==============================] - 0s 100us/step - loss: 1.3381 - accuracy: 0.3125\n",
      "Epoch 148/180\n",
      "80/80 [==============================] - 0s 87us/step - loss: 1.3325 - accuracy: 0.3125\n",
      "Epoch 149/180\n",
      "80/80 [==============================] - 0s 100us/step - loss: 1.3269 - accuracy: 0.3125\n",
      "Epoch 150/180\n",
      "80/80 [==============================] - 0s 100us/step - loss: 1.3214 - accuracy: 0.3125\n",
      "Epoch 151/180\n",
      "80/80 [==============================] - 0s 125us/step - loss: 1.3164 - accuracy: 0.3125\n",
      "Epoch 152/180\n",
      "80/80 [==============================] - 0s 112us/step - loss: 1.3109 - accuracy: 0.3125\n",
      "Epoch 153/180\n",
      "80/80 [==============================] - 0s 87us/step - loss: 1.3058 - accuracy: 0.3125\n",
      "Epoch 154/180\n",
      "80/80 [==============================] - 0s 87us/step - loss: 1.3003 - accuracy: 0.3250\n",
      "Epoch 155/180\n",
      "80/80 [==============================] - 0s 100us/step - loss: 1.2955 - accuracy: 0.3250\n",
      "Epoch 156/180\n",
      "80/80 [==============================] - 0s 137us/step - loss: 1.2902 - accuracy: 0.3250\n",
      "Epoch 157/180\n",
      "80/80 [==============================] - 0s 100us/step - loss: 1.2853 - accuracy: 0.3250\n",
      "Epoch 158/180\n"
     ]
    },
    {
     "name": "stdout",
     "output_type": "stream",
     "text": [
      "80/80 [==============================] - 0s 100us/step - loss: 1.2804 - accuracy: 0.3250\n",
      "Epoch 159/180\n",
      "80/80 [==============================] - 0s 112us/step - loss: 1.2757 - accuracy: 0.3250\n",
      "Epoch 160/180\n",
      "80/80 [==============================] - 0s 137us/step - loss: 1.2708 - accuracy: 0.3250\n",
      "Epoch 161/180\n",
      "80/80 [==============================] - 0s 125us/step - loss: 1.2658 - accuracy: 0.3250\n",
      "Epoch 162/180\n",
      "80/80 [==============================] - 0s 100us/step - loss: 1.2616 - accuracy: 0.3250\n",
      "Epoch 163/180\n",
      "80/80 [==============================] - 0s 125us/step - loss: 1.2568 - accuracy: 0.3250\n",
      "Epoch 164/180\n",
      "80/80 [==============================] - 0s 137us/step - loss: 1.2523 - accuracy: 0.3250\n",
      "Epoch 165/180\n",
      "80/80 [==============================] - 0s 112us/step - loss: 1.2478 - accuracy: 0.3250\n",
      "Epoch 166/180\n",
      "80/80 [==============================] - 0s 112us/step - loss: 1.2435 - accuracy: 0.3250\n",
      "Epoch 167/180\n",
      "80/80 [==============================] - 0s 125us/step - loss: 1.2391 - accuracy: 0.3250\n",
      "Epoch 168/180\n",
      "80/80 [==============================] - 0s 137us/step - loss: 1.2351 - accuracy: 0.3250\n",
      "Epoch 169/180\n",
      "80/80 [==============================] - 0s 125us/step - loss: 1.2309 - accuracy: 0.3250\n",
      "Epoch 170/180\n",
      "80/80 [==============================] - 0s 100us/step - loss: 1.2266 - accuracy: 0.3250\n",
      "Epoch 171/180\n",
      "80/80 [==============================] - 0s 112us/step - loss: 1.2226 - accuracy: 0.3250\n",
      "Epoch 172/180\n",
      "80/80 [==============================] - 0s 100us/step - loss: 1.2187 - accuracy: 0.3250\n",
      "Epoch 173/180\n",
      "80/80 [==============================] - 0s 137us/step - loss: 1.2145 - accuracy: 0.3250\n",
      "Epoch 174/180\n",
      "80/80 [==============================] - 0s 112us/step - loss: 1.2108 - accuracy: 0.3250\n",
      "Epoch 175/180\n",
      "80/80 [==============================] - 0s 100us/step - loss: 1.2071 - accuracy: 0.3250\n",
      "Epoch 176/180\n",
      "80/80 [==============================] - 0s 137us/step - loss: 1.2032 - accuracy: 0.3250\n",
      "Epoch 177/180\n",
      "80/80 [==============================] - 0s 150us/step - loss: 1.1994 - accuracy: 0.3250\n",
      "Epoch 178/180\n",
      "80/80 [==============================] - 0s 162us/step - loss: 1.1957 - accuracy: 0.3250\n",
      "Epoch 179/180\n",
      "80/80 [==============================] - 0s 137us/step - loss: 1.1920 - accuracy: 0.3250\n",
      "Epoch 180/180\n",
      "80/80 [==============================] - 0s 137us/step - loss: 1.1885 - accuracy: 0.3250\n"
     ]
    },
    {
     "data": {
      "text/plain": [
       "<keras.callbacks.callbacks.History at 0x1fbed929a90>"
      ]
     },
     "execution_count": 31,
     "metadata": {},
     "output_type": "execute_result"
    }
   ],
   "source": [
    "model.fit(x_train,y_train,batch_size=32,nb_epoch=180)"
   ]
  },
  {
   "cell_type": "code",
   "execution_count": 32,
   "metadata": {},
   "outputs": [],
   "source": [
    "y_pred=model.predict(x_test)"
   ]
  },
  {
   "cell_type": "code",
   "execution_count": 33,
   "metadata": {},
   "outputs": [],
   "source": [
    "model.save('cluster.h5')"
   ]
  },
  {
   "cell_type": "code",
   "execution_count": 34,
   "metadata": {},
   "outputs": [
    {
     "data": {
      "text/plain": [
       "'Food'"
      ]
     },
     "execution_count": 34,
     "metadata": {},
     "output_type": "execute_result"
    }
   ],
   "source": [
    "enclabels[list(y_pred[0]).index(max(y_pred[0]))]"
   ]
  },
  {
   "cell_type": "code",
   "execution_count": 35,
   "metadata": {},
   "outputs": [],
   "source": [
    "np.save('classes.npy', label.classes_)"
   ]
  },
  {
   "cell_type": "code",
   "execution_count": 36,
   "metadata": {},
   "outputs": [],
   "source": [
    "import pickle"
   ]
  },
  {
   "cell_type": "code",
   "execution_count": 37,
   "metadata": {},
   "outputs": [],
   "source": [
    "pickle.dump(cv, open(\"vector.pickel\", \"wb\"))"
   ]
  },
  {
   "cell_type": "code",
   "execution_count": null,
   "metadata": {},
   "outputs": [],
   "source": []
  },
  {
   "cell_type": "code",
   "execution_count": null,
   "metadata": {},
   "outputs": [],
   "source": []
  }
 ],
 "metadata": {
  "kernelspec": {
   "display_name": "Python 3",
   "language": "python",
   "name": "python3"
  },
  "language_info": {
   "codemirror_mode": {
    "name": "ipython",
    "version": 3
   },
   "file_extension": ".py",
   "mimetype": "text/x-python",
   "name": "python",
   "nbconvert_exporter": "python",
   "pygments_lexer": "ipython3",
   "version": "3.7.3"
  }
 },
 "nbformat": 4,
 "nbformat_minor": 2
}
